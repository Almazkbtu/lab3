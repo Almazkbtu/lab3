{
 "cells": [
  {
   "cell_type": "code",
   "execution_count": 2,
   "id": "715b77f6-7fab-49b2-a1fa-8466ae278971",
   "metadata": {},
   "outputs": [
    {
     "name": "stdin",
     "output_type": "stream",
     "text": [
      " abc\n"
     ]
    },
    {
     "name": "stdout",
     "output_type": "stream",
     "text": [
      "ABC\n"
     ]
    }
   ],
   "source": [
    "class stm:\n",
    "    def __init__(self):\n",
    "        self.a = \"\"\n",
    "    def gts(self):\n",
    "        self.a = input()\n",
    "    def prt(self):\n",
    "        print(self.a.upper())\n",
    "b = stm()\n",
    "b.gts()\n",
    "b.prt()"
   ]
  },
  {
   "cell_type": "code",
   "execution_count": 4,
   "id": "249ee220-0ab8-40f3-9337-f8eabe836ff8",
   "metadata": {},
   "outputs": [
    {
     "name": "stdin",
     "output_type": "stream",
     "text": [
      " 25\n"
     ]
    },
    {
     "name": "stdout",
     "output_type": "stream",
     "text": [
      "625\n"
     ]
    },
    {
     "name": "stdin",
     "output_type": "stream",
     "text": [
      " 36\n",
      " 25\n"
     ]
    },
    {
     "name": "stdout",
     "output_type": "stream",
     "text": [
      "900\n"
     ]
    }
   ],
   "source": [
    "class shape():\n",
    "    def __init__(self):\n",
    "        return 0\n",
    "class square(shape):\n",
    "    def __init__(self, length):\n",
    "        self.length = length\n",
    "    def area(self):\n",
    "        return self.length ** 2\n",
    "class rectangle(shape):\n",
    "    def __init__(self, lenth, width):\n",
    "        self.lenth = lenth\n",
    "        self.width = width\n",
    "    def area(self):\n",
    "        return self.lenth * self.width\n",
    "n = int(input())\n",
    "b = square(n)\n",
    "print(b.area())\n",
    "fir = int(input())\n",
    "sec = int(input())\n",
    "d = rectangle(fir,sec)\n",
    "print(d.area())"
   ]
  },
  {
   "cell_type": "code",
   "execution_count": 6,
   "id": "12996abf-f117-492b-8201-d76137d2765f",
   "metadata": {},
   "outputs": [
    {
     "name": "stdin",
     "output_type": "stream",
     "text": [
      " 1\n",
      " 1\n"
     ]
    },
    {
     "name": "stdout",
     "output_type": "stream",
     "text": [
      "1 1\n"
     ]
    },
    {
     "name": "stdin",
     "output_type": "stream",
     "text": [
      " 2\n",
      " 2\n",
      " 4\n",
      " 24\n"
     ]
    },
    {
     "data": {
      "text/plain": [
       "22.090722034374522"
      ]
     },
     "execution_count": 6,
     "metadata": {},
     "output_type": "execute_result"
    }
   ],
   "source": [
    "import math\n",
    "class point():\n",
    "    def __init__(self, x , y):\n",
    "        self.x = x\n",
    "        self.y = y\n",
    "    def show(self):\n",
    "        print(self.x , self.y)\n",
    "    def move(self, oth):\n",
    "        self.x = oth.x\n",
    "        self.y = oth.y\n",
    "    def dist(self, ot):\n",
    "        return math.sqrt((self.x - ot.x) ** 2 + (self.y - ot.y) ** 2)\n",
    "x = int(input())\n",
    "y = int(input())\n",
    "a = point(x,y)\n",
    "a.show()\n",
    "x1 = int(input())\n",
    "y1 = int(input())\n",
    "b = point(x1,y1)\n",
    "a.move(b)\n",
    "x2 = int(input())\n",
    "y2 = int(input())\n",
    "c = point(x2,y2)\n",
    "a.dist(c)"
   ]
  },
  {
   "cell_type": "code",
   "execution_count": 14,
   "id": "c90c7f11-36e3-410b-90ee-e8caa1e7b1f3",
   "metadata": {},
   "outputs": [
    {
     "name": "stdin",
     "output_type": "stream",
     "text": [
      " 545\n",
      " 1\n"
     ]
    },
    {
     "name": "stdout",
     "output_type": "stream",
     "text": [
      "Deposited 1. New balance: 546\n"
     ]
    },
    {
     "name": "stdin",
     "output_type": "stream",
     "text": [
      " 46\n"
     ]
    },
    {
     "name": "stdout",
     "output_type": "stream",
     "text": [
      "Withdrew 46. New balance: 500\n"
     ]
    }
   ],
   "source": [
    "class Bank:\n",
    "    def __init__(self, o, b):\n",
    "        self.o = o\n",
    "        self.b = b\n",
    "\n",
    "    def deposit(self, a):\n",
    "        self.b += a\n",
    "        print(f\"Deposited {a}. New balance: {self.b}\")\n",
    "\n",
    "    def withdraw(self, a):\n",
    "        if self.b < a:\n",
    "            print(\"Insufficient funds!\")\n",
    "        else:\n",
    "            self.b -= a\n",
    "            print(f\"Withdrew {a}. New balance: {self.b}\")\n",
    "\n",
    "f = int(input())\n",
    "acc = Bank(\"E\", f)\n",
    "d = int(input())\n",
    "acc.deposit(d)\n",
    "w = int(input())\n",
    "acc.withdraw(w)\n"
   ]
  },
  {
   "cell_type": "code",
   "execution_count": 12,
   "id": "a34b014f-7b11-4c37-951c-dc97f16cdeef",
   "metadata": {},
   "outputs": [
    {
     "name": "stdin",
     "output_type": "stream",
     "text": [
      " 5 7 8 9 10 11 3\n"
     ]
    },
    {
     "name": "stdout",
     "output_type": "stream",
     "text": [
      "Prime numbers: [5, 7, 11, 3]\n"
     ]
    }
   ],
   "source": [
    "def is_prime(n):\n",
    "    if n < 2:\n",
    "        return False\n",
    "    for i in range(2, n):\n",
    "        if n % i == 0:\n",
    "            return False\n",
    "    return True\n",
    "i = list(map(int, input().split()))\n",
    "pn = list(filter(lambda x: is_prime(x), i))\n",
    "print(\"Prime numbers:\", pn)"
   ]
  },
  {
   "cell_type": "code",
   "execution_count": null,
   "id": "01a38c9c-f11f-4ffe-92fc-734080750ba8",
   "metadata": {},
   "outputs": [],
   "source": []
  }
 ],
 "metadata": {
  "kernelspec": {
   "display_name": "Python 3 (ipykernel)",
   "language": "python",
   "name": "python3"
  },
  "language_info": {
   "codemirror_mode": {
    "name": "ipython",
    "version": 3
   },
   "file_extension": ".py",
   "mimetype": "text/x-python",
   "name": "python",
   "nbconvert_exporter": "python",
   "pygments_lexer": "ipython3",
   "version": "3.12.7"
  }
 },
 "nbformat": 4,
 "nbformat_minor": 5
}
