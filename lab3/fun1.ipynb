{
 "cells": [
  {
   "cell_type": "code",
   "execution_count": 1,
   "id": "e1a9c82b-e079-4e0f-a0af-78c5fbf119dd",
   "metadata": {},
   "outputs": [
    {
     "name": "stdout",
     "output_type": "stream",
     "text": [
      " 3\n"
     ]
    },
    {
     "name": "stdout",
     "output_type": "stream",
     "text": [
      "85.0485693\n"
     ]
    }
   ],
   "source": [
    "def A(a):\n",
    "    print(a * 28.3495231)\n",
    "A(int(input()))"
   ]
  },
  {
   "cell_type": "code",
   "execution_count": 3,
   "id": "ff69e197-ae13-4501-891d-5d77b7c92eb4",
   "metadata": {},
   "outputs": [
    {
     "name": "stdout",
     "output_type": "stream",
     "text": [
      " 40\n"
     ]
    },
    {
     "name": "stdout",
     "output_type": "stream",
     "text": [
      "4.444444444444445\n"
     ]
    }
   ],
   "source": [
    "def C(F):\n",
    "    print((5 / 9) * (F -32))\n",
    "C(int(input()))\n"
   ]
  },
  {
   "cell_type": "code",
   "execution_count": 5,
   "id": "a9382a49-2943-4130-9424-1b13f2a04d3c",
   "metadata": {},
   "outputs": [
    {
     "name": "stdout",
     "output_type": "stream",
     "text": [
      " 94 35\n"
     ]
    },
    {
     "name": "stdout",
     "output_type": "stream",
     "text": [
      "rabbits = 12 chickens = 23\n"
     ]
    }
   ],
   "source": [
    "\n",
    "def N(l, h):\n",
    "    for i in range(h):\n",
    "        x = h - i\n",
    "        y = i\n",
    "        if y * 4 + x * 2 == l:\n",
    "            break\n",
    "    print(\"rabbits =\", y, \"chickens =\", x )\n",
    "l, h = map(int, input().split())\n",
    "N(l, h)\n"
   ]
  },
  {
   "cell_type": "code",
   "execution_count": 33,
   "id": "573d9ce0-9a06-4fd4-844f-de44399227f4",
   "metadata": {
    "scrolled": true
   },
   "outputs": [
    {
     "name": "stdout",
     "output_type": "stream",
     "text": [
      " 121 11 0 3 7 \n"
     ]
    },
    {
     "name": "stdout",
     "output_type": "stream",
     "text": [
      "11 3 7 "
     ]
    }
   ],
   "source": [
    "def prime(n):\n",
    "    if n < 4:\n",
    "        return    \n",
    "    a = [i for i in range(n + 1)]\n",
    "    a[1] = 0\n",
    "    for i in range(2, n + 1):\n",
    "        if a[i] != 0:\n",
    "            for j in range(i * 2, n + 1, i):\n",
    "                if a[j] != 0:\n",
    "                    a[j] = 0\n",
    "    return a\n",
    " \n",
    "a = list(map(int, input().split()))\n",
    "re = prime(max(a))\n",
    "for i in a:\n",
    "    if re[i] == 0:\n",
    "        continue\n",
    "    print(i, end = \" \")"
   ]
  },
  {
   "cell_type": "code",
   "execution_count": 11,
   "id": "3ffae49e-ea93-421a-83cf-e7f80c5f498b",
   "metadata": {},
   "outputs": [
    {
     "name": "stdout",
     "output_type": "stream",
     "text": [
      " 123\n"
     ]
    },
    {
     "name": "stdout",
     "output_type": "stream",
     "text": [
      "123\n",
      "132\n",
      "213\n",
      "231\n",
      "312\n",
      "321\n"
     ]
    }
   ],
   "source": [
    "from itertools import *\n",
    "def A(a):\n",
    "    a = permutations([i for i in a], len(a))\n",
    "    for i in a:\n",
    "        print(\"\".join(i))\n",
    "A(input())"
   ]
  },
  {
   "cell_type": "code",
   "execution_count": 15,
   "id": "fe0b0bf4-fc15-47b5-8d5f-38875315042e",
   "metadata": {},
   "outputs": [
    {
     "name": "stdout",
     "output_type": "stream",
     "text": [
      " 1 + 1 = 2\n"
     ]
    },
    {
     "name": "stdout",
     "output_type": "stream",
     "text": [
      "2 = 1 + 1\n"
     ]
    }
   ],
   "source": [
    "def A(a):\n",
    "    print(*a[::-1])\n",
    "a = input().split()\n",
    "A(a)"
   ]
  },
  {
   "cell_type": "code",
   "execution_count": 19,
   "id": "14f90837-49f6-45b9-923b-ac8c2e7f0d3a",
   "metadata": {},
   "outputs": [
    {
     "name": "stdout",
     "output_type": "stream",
     "text": [
      "True\n",
      "False\n",
      "False\n"
     ]
    }
   ],
   "source": [
    "def has_33(a):\n",
    "    for i in range(len(a) - 1):\n",
    "        if a[i] == a[i + 1] and a[i] == 3:\n",
    "            print(True)\n",
    "            return\n",
    "    print(False)\n",
    "has_33([1, 3, 3]) \n",
    "has_33([1, 3, 1, 3])\n",
    "has_33([3, 1, 3]) "
   ]
  },
  {
   "cell_type": "code",
   "execution_count": 1,
   "id": "275304a7-64e2-450f-9892-6b54dcc2ad65",
   "metadata": {},
   "outputs": [
    {
     "name": "stdout",
     "output_type": "stream",
     "text": [
      "True\n",
      "True\n",
      "False\n"
     ]
    }
   ],
   "source": [
    "def spy_game(a):\n",
    "    x = 0\n",
    "    for i in range(len(a)):\n",
    "        if a[i] == 7 and x >= 2:\n",
    "            print(True)\n",
    "            return\n",
    "        if a[i] == 7:\n",
    "            x = 0\n",
    "        if a[i] == 0:\n",
    "            x += 1\n",
    "    print(False)\n",
    "spy_game([1,2,4,0,0,7,5])\n",
    "spy_game([1,0,2,4,0,5,7]) \n",
    "spy_game([1,7,2,0,4,5,0])"
   ]
  },
  {
   "cell_type": "code",
   "execution_count": 29,
   "id": "7ce1536c-db3e-420e-bcc2-076c47c1cbf6",
   "metadata": {},
   "outputs": [
    {
     "name": "stdout",
     "output_type": "stream",
     "text": [
      " 3\n"
     ]
    },
    {
     "name": "stdout",
     "output_type": "stream",
     "text": [
      "113.09733552923254 or 36.0 pi\n"
     ]
    }
   ],
   "source": [
    "from math import * \n",
    "def N(r):\n",
    "    print(r * r * r * pi * (4 / 3), \"or\",f'{r * r * r * (4 / 3)} pi')\n",
    "N(int(input()))"
   ]
  },
  {
   "cell_type": "code",
   "execution_count": 9,
   "id": "a630328f-47c1-4dfb-a415-b51590eab440",
   "metadata": {},
   "outputs": [
    {
     "name": "stdout",
     "output_type": "stream",
     "text": [
      " as as as as 1 11 1 26 26 25\n"
     ]
    },
    {
     "name": "stdout",
     "output_type": "stream",
     "text": [
      "as 1 11 26 25\n"
     ]
    }
   ],
   "source": [
    "def uni(a):\n",
    "    k = []\n",
    "    for i in a:\n",
    "        if i not in k:\n",
    "            k.append(i)\n",
    "    print(*k)\n",
    "a = input().split()\n",
    "uni(a)"
   ]
  },
  {
   "cell_type": "code",
   "execution_count": 11,
   "id": "90c2e45f-d8ec-40a6-9107-ec3a6963c26a",
   "metadata": {},
   "outputs": [
    {
     "name": "stdout",
     "output_type": "stream",
     "text": [
      " 5263\n"
     ]
    },
    {
     "name": "stdout",
     "output_type": "stream",
     "text": [
      "False\n"
     ]
    }
   ],
   "source": [
    "def poli(a):\n",
    "    if a == a[::-1]:\n",
    "        print(True)\n",
    "    else:\n",
    "        print(False)\n",
    "poli(input())"
   ]
  },
  {
   "cell_type": "code",
   "execution_count": 17,
   "id": "5142fd22-ef98-4f25-b3c5-8007c564654f",
   "metadata": {},
   "outputs": [
    {
     "name": "stdout",
     "output_type": "stream",
     "text": [
      " 5 4 3 3 4 5\n"
     ]
    },
    {
     "name": "stdout",
     "output_type": "stream",
     "text": [
      "*****\n",
      "****\n",
      "***\n",
      "***\n",
      "****\n",
      "*****\n"
     ]
    }
   ],
   "source": [
    "def u(a):\n",
    "    for i in a:\n",
    "        print(i * \"*\")\n",
    "a = list(map(int, input().split()))\n",
    "u(a)"
   ]
  },
  {
   "cell_type": "code",
   "execution_count": 19,
   "id": "5693f9fc-1f4d-4674-a647-201e64f221a2",
   "metadata": {},
   "outputs": [
    {
     "name": "stdout",
     "output_type": "stream",
     "text": [
      "Hello! What is your name?\n",
      " Almaz\n"
     ]
    },
    {
     "name": "stdout",
     "output_type": "stream",
     "text": [
      "\n",
      "Well, Almaz, I am thinking of a number between 1 and 20.\n"
     ]
    },
    {
     "name": "stdout",
     "output_type": "stream",
     "text": [
      "Take a guess.\n",
      " 6\n"
     ]
    },
    {
     "name": "stdout",
     "output_type": "stream",
     "text": [
      "Your guess is too low.\n"
     ]
    },
    {
     "name": "stdout",
     "output_type": "stream",
     "text": [
      "Take a guess.\n",
      " 10\n"
     ]
    },
    {
     "name": "stdout",
     "output_type": "stream",
     "text": [
      "Your guess is too low.\n"
     ]
    },
    {
     "name": "stdout",
     "output_type": "stream",
     "text": [
      "Take a guess.\n",
      " 15\n"
     ]
    },
    {
     "name": "stdout",
     "output_type": "stream",
     "text": [
      "Your guess is too low.\n"
     ]
    },
    {
     "name": "stdout",
     "output_type": "stream",
     "text": [
      "Take a guess.\n",
      " 20\n"
     ]
    },
    {
     "name": "stdout",
     "output_type": "stream",
     "text": [
      "Your guess is too high.\n"
     ]
    },
    {
     "name": "stdout",
     "output_type": "stream",
     "text": [
      "Take a guess.\n",
      " 16\n"
     ]
    },
    {
     "name": "stdout",
     "output_type": "stream",
     "text": [
      "Good job, Almaz! You guessed my number in 5 guesses!\n"
     ]
    }
   ],
   "source": [
    "import random\n",
    "def N():\n",
    "    a = random.randint(1, 20)\n",
    "    n = input(\"Hello! What is your name?\\n\")\n",
    "    print(f\"\\nWell, {n}, I am thinking of a number between 1 and 20.\")\n",
    "    c = 0\n",
    "    while True:\n",
    "        b = int(input(\"Take a guess.\\n\"))\n",
    "        c += 1\n",
    "        if b < a:\n",
    "            print(\"Your guess is too low.\")\n",
    "        elif b > a:\n",
    "            print(\"Your guess is too high.\")\n",
    "        else:\n",
    "            print(f\"Good job, {n}! You guessed my number in {c} guesses!\")\n",
    "            break\n",
    "N()"
   ]
  },
  {
   "cell_type": "code",
   "execution_count": null,
   "id": "630db7a0-c9b9-4dfe-93a1-4c89442640cf",
   "metadata": {},
   "outputs": [],
   "source": []
  },
  {
   "cell_type": "code",
   "execution_count": null,
   "id": "ae3bb7aa-114e-4f99-b168-4eaaaf711f5f",
   "metadata": {},
   "outputs": [],
   "source": []
  }
 ],
 "metadata": {
  "kernelspec": {
   "display_name": "Python 3 (ipykernel)",
   "language": "python",
   "name": "python3"
  },
  "language_info": {
   "codemirror_mode": {
    "name": "ipython",
    "version": 3
   },
   "file_extension": ".py",
   "mimetype": "text/x-python",
   "name": "python",
   "nbconvert_exporter": "python",
   "pygments_lexer": "ipython3",
   "version": "3.12.7"
  }
 },
 "nbformat": 4,
 "nbformat_minor": 5
}
